{
 "cells": [
  {
   "cell_type": "markdown",
   "id": "4bd104b1",
   "metadata": {},
   "source": [
    "# Final Project Predictive Analytics"
   ]
  },
  {
   "cell_type": "markdown",
   "id": "0564c965",
   "metadata": {},
   "source": [
    "#### Author : \n",
    "2010512062 Nicodemus Naisau (demsroadmap@gmail.com) <br>\n",
    "2010512062 Syauqi"
   ]
  },
  {
   "cell_type": "markdown",
   "id": "52c78410",
   "metadata": {},
   "source": [
    "\n",
    "<img src=\"https://www.mdanderson.org/images/publications/cancerwise/D/CW-diabetes-iStock-1168613048.jpg\"\n",
    "     alt=\"ecommerce img assets\"\n",
    "     style=\"float: center\" />"
   ]
  },
  {
   "cell_type": "markdown",
   "id": "befcb329",
   "metadata": {},
   "source": [
    "___"
   ]
  },
  {
   "cell_type": "markdown",
   "id": "d04962f8",
   "metadata": {},
   "source": [
    "# Impor Pustaka (Library)"
   ]
  },
  {
   "cell_type": "code",
   "execution_count": 1,
   "id": "18970cec",
   "metadata": {},
   "outputs": [],
   "source": [
    "import numpy as np\n",
    "import pandas as pd\n",
    "import matplotlib.pyplot as plt\n",
    "import seaborn as sns\n",
    "\n",
    "from sklearn.preprocessing import LabelEncoder\n",
    "from sklearn.model_selection import train_test_split\n",
    "from sklearn.metrics import confusion_matrix, classification_report\n",
    "#model\n",
    "from sklearn.neighbors import KNeighborsClassifier\n",
    "\n",
    "#import warnings\n",
    "import warnings\n",
    "warnings.filterwarnings(\"ignore\") "
   ]
  },
  {
   "cell_type": "markdown",
   "id": "72634f43",
   "metadata": {},
   "source": [
    "# Eksplorasi Column Dataset"
   ]
  },
  {
   "cell_type": "markdown",
   "id": "6778415c",
   "metadata": {},
   "source": [
    "## Pembukaan Himpunan Data"
   ]
  },
  {
   "cell_type": "code",
   "execution_count": 2,
   "id": "1778b40d",
   "metadata": {},
   "outputs": [],
   "source": [
    "df = pd.read_csv(\"diabetes.csv\")"
   ]
  },
  {
   "cell_type": "markdown",
   "id": "02030f4e",
   "metadata": {},
   "source": [
    "## Pengecekan 5 Baris Pertama Himpunan Data"
   ]
  },
  {
   "cell_type": "code",
   "execution_count": 3,
   "id": "b2ab9b60",
   "metadata": {},
   "outputs": [
    {
     "data": {
      "text/html": [
       "<div>\n",
       "<style scoped>\n",
       "    .dataframe tbody tr th:only-of-type {\n",
       "        vertical-align: middle;\n",
       "    }\n",
       "\n",
       "    .dataframe tbody tr th {\n",
       "        vertical-align: top;\n",
       "    }\n",
       "\n",
       "    .dataframe thead th {\n",
       "        text-align: right;\n",
       "    }\n",
       "</style>\n",
       "<table border=\"1\" class=\"dataframe\">\n",
       "  <thead>\n",
       "    <tr style=\"text-align: right;\">\n",
       "      <th></th>\n",
       "      <th>Pregnancies</th>\n",
       "      <th>Glucose</th>\n",
       "      <th>BloodPressure</th>\n",
       "      <th>SkinThickness</th>\n",
       "      <th>Insulin</th>\n",
       "      <th>BMI</th>\n",
       "      <th>DiabetesPedigreeFunction</th>\n",
       "      <th>Age</th>\n",
       "      <th>Outcome</th>\n",
       "    </tr>\n",
       "  </thead>\n",
       "  <tbody>\n",
       "    <tr>\n",
       "      <th>0</th>\n",
       "      <td>6</td>\n",
       "      <td>148</td>\n",
       "      <td>72</td>\n",
       "      <td>35</td>\n",
       "      <td>0</td>\n",
       "      <td>33.6</td>\n",
       "      <td>0.627</td>\n",
       "      <td>50</td>\n",
       "      <td>1</td>\n",
       "    </tr>\n",
       "    <tr>\n",
       "      <th>1</th>\n",
       "      <td>1</td>\n",
       "      <td>85</td>\n",
       "      <td>66</td>\n",
       "      <td>29</td>\n",
       "      <td>0</td>\n",
       "      <td>26.6</td>\n",
       "      <td>0.351</td>\n",
       "      <td>31</td>\n",
       "      <td>0</td>\n",
       "    </tr>\n",
       "    <tr>\n",
       "      <th>2</th>\n",
       "      <td>8</td>\n",
       "      <td>183</td>\n",
       "      <td>64</td>\n",
       "      <td>0</td>\n",
       "      <td>0</td>\n",
       "      <td>23.3</td>\n",
       "      <td>0.672</td>\n",
       "      <td>32</td>\n",
       "      <td>1</td>\n",
       "    </tr>\n",
       "    <tr>\n",
       "      <th>3</th>\n",
       "      <td>1</td>\n",
       "      <td>89</td>\n",
       "      <td>66</td>\n",
       "      <td>23</td>\n",
       "      <td>94</td>\n",
       "      <td>28.1</td>\n",
       "      <td>0.167</td>\n",
       "      <td>21</td>\n",
       "      <td>0</td>\n",
       "    </tr>\n",
       "    <tr>\n",
       "      <th>4</th>\n",
       "      <td>0</td>\n",
       "      <td>137</td>\n",
       "      <td>40</td>\n",
       "      <td>35</td>\n",
       "      <td>168</td>\n",
       "      <td>43.1</td>\n",
       "      <td>2.288</td>\n",
       "      <td>33</td>\n",
       "      <td>1</td>\n",
       "    </tr>\n",
       "  </tbody>\n",
       "</table>\n",
       "</div>"
      ],
      "text/plain": [
       "   Pregnancies  Glucose  BloodPressure  SkinThickness  Insulin   BMI  \\\n",
       "0            6      148             72             35        0  33.6   \n",
       "1            1       85             66             29        0  26.6   \n",
       "2            8      183             64              0        0  23.3   \n",
       "3            1       89             66             23       94  28.1   \n",
       "4            0      137             40             35      168  43.1   \n",
       "\n",
       "   DiabetesPedigreeFunction  Age  Outcome  \n",
       "0                     0.627   50        1  \n",
       "1                     0.351   31        0  \n",
       "2                     0.672   32        1  \n",
       "3                     0.167   21        0  \n",
       "4                     2.288   33        1  "
      ]
     },
     "execution_count": 3,
     "metadata": {},
     "output_type": "execute_result"
    }
   ],
   "source": [
    "df.head()"
   ]
  },
  {
   "cell_type": "markdown",
   "id": "193a97a2",
   "metadata": {},
   "source": [
    "## Statistik Deskriptif Himpunan Data"
   ]
  },
  {
   "cell_type": "code",
   "execution_count": 4,
   "id": "9c791ef9",
   "metadata": {},
   "outputs": [
    {
     "data": {
      "text/html": [
       "<div>\n",
       "<style scoped>\n",
       "    .dataframe tbody tr th:only-of-type {\n",
       "        vertical-align: middle;\n",
       "    }\n",
       "\n",
       "    .dataframe tbody tr th {\n",
       "        vertical-align: top;\n",
       "    }\n",
       "\n",
       "    .dataframe thead th {\n",
       "        text-align: right;\n",
       "    }\n",
       "</style>\n",
       "<table border=\"1\" class=\"dataframe\">\n",
       "  <thead>\n",
       "    <tr style=\"text-align: right;\">\n",
       "      <th></th>\n",
       "      <th>Pregnancies</th>\n",
       "      <th>Glucose</th>\n",
       "      <th>BloodPressure</th>\n",
       "      <th>SkinThickness</th>\n",
       "      <th>Insulin</th>\n",
       "      <th>BMI</th>\n",
       "      <th>DiabetesPedigreeFunction</th>\n",
       "      <th>Age</th>\n",
       "      <th>Outcome</th>\n",
       "    </tr>\n",
       "  </thead>\n",
       "  <tbody>\n",
       "    <tr>\n",
       "      <th>count</th>\n",
       "      <td>768.000000</td>\n",
       "      <td>768.000000</td>\n",
       "      <td>768.000000</td>\n",
       "      <td>768.000000</td>\n",
       "      <td>768.000000</td>\n",
       "      <td>768.000000</td>\n",
       "      <td>768.000000</td>\n",
       "      <td>768.000000</td>\n",
       "      <td>768.000000</td>\n",
       "    </tr>\n",
       "    <tr>\n",
       "      <th>mean</th>\n",
       "      <td>3.845052</td>\n",
       "      <td>120.894531</td>\n",
       "      <td>69.105469</td>\n",
       "      <td>20.536458</td>\n",
       "      <td>79.799479</td>\n",
       "      <td>31.992578</td>\n",
       "      <td>0.471876</td>\n",
       "      <td>33.240885</td>\n",
       "      <td>0.348958</td>\n",
       "    </tr>\n",
       "    <tr>\n",
       "      <th>std</th>\n",
       "      <td>3.369578</td>\n",
       "      <td>31.972618</td>\n",
       "      <td>19.355807</td>\n",
       "      <td>15.952218</td>\n",
       "      <td>115.244002</td>\n",
       "      <td>7.884160</td>\n",
       "      <td>0.331329</td>\n",
       "      <td>11.760232</td>\n",
       "      <td>0.476951</td>\n",
       "    </tr>\n",
       "    <tr>\n",
       "      <th>min</th>\n",
       "      <td>0.000000</td>\n",
       "      <td>0.000000</td>\n",
       "      <td>0.000000</td>\n",
       "      <td>0.000000</td>\n",
       "      <td>0.000000</td>\n",
       "      <td>0.000000</td>\n",
       "      <td>0.078000</td>\n",
       "      <td>21.000000</td>\n",
       "      <td>0.000000</td>\n",
       "    </tr>\n",
       "    <tr>\n",
       "      <th>25%</th>\n",
       "      <td>1.000000</td>\n",
       "      <td>99.000000</td>\n",
       "      <td>62.000000</td>\n",
       "      <td>0.000000</td>\n",
       "      <td>0.000000</td>\n",
       "      <td>27.300000</td>\n",
       "      <td>0.243750</td>\n",
       "      <td>24.000000</td>\n",
       "      <td>0.000000</td>\n",
       "    </tr>\n",
       "    <tr>\n",
       "      <th>50%</th>\n",
       "      <td>3.000000</td>\n",
       "      <td>117.000000</td>\n",
       "      <td>72.000000</td>\n",
       "      <td>23.000000</td>\n",
       "      <td>30.500000</td>\n",
       "      <td>32.000000</td>\n",
       "      <td>0.372500</td>\n",
       "      <td>29.000000</td>\n",
       "      <td>0.000000</td>\n",
       "    </tr>\n",
       "    <tr>\n",
       "      <th>75%</th>\n",
       "      <td>6.000000</td>\n",
       "      <td>140.250000</td>\n",
       "      <td>80.000000</td>\n",
       "      <td>32.000000</td>\n",
       "      <td>127.250000</td>\n",
       "      <td>36.600000</td>\n",
       "      <td>0.626250</td>\n",
       "      <td>41.000000</td>\n",
       "      <td>1.000000</td>\n",
       "    </tr>\n",
       "    <tr>\n",
       "      <th>max</th>\n",
       "      <td>17.000000</td>\n",
       "      <td>199.000000</td>\n",
       "      <td>122.000000</td>\n",
       "      <td>99.000000</td>\n",
       "      <td>846.000000</td>\n",
       "      <td>67.100000</td>\n",
       "      <td>2.420000</td>\n",
       "      <td>81.000000</td>\n",
       "      <td>1.000000</td>\n",
       "    </tr>\n",
       "  </tbody>\n",
       "</table>\n",
       "</div>"
      ],
      "text/plain": [
       "       Pregnancies     Glucose  BloodPressure  SkinThickness     Insulin  \\\n",
       "count   768.000000  768.000000     768.000000     768.000000  768.000000   \n",
       "mean      3.845052  120.894531      69.105469      20.536458   79.799479   \n",
       "std       3.369578   31.972618      19.355807      15.952218  115.244002   \n",
       "min       0.000000    0.000000       0.000000       0.000000    0.000000   \n",
       "25%       1.000000   99.000000      62.000000       0.000000    0.000000   \n",
       "50%       3.000000  117.000000      72.000000      23.000000   30.500000   \n",
       "75%       6.000000  140.250000      80.000000      32.000000  127.250000   \n",
       "max      17.000000  199.000000     122.000000      99.000000  846.000000   \n",
       "\n",
       "              BMI  DiabetesPedigreeFunction         Age     Outcome  \n",
       "count  768.000000                768.000000  768.000000  768.000000  \n",
       "mean    31.992578                  0.471876   33.240885    0.348958  \n",
       "std      7.884160                  0.331329   11.760232    0.476951  \n",
       "min      0.000000                  0.078000   21.000000    0.000000  \n",
       "25%     27.300000                  0.243750   24.000000    0.000000  \n",
       "50%     32.000000                  0.372500   29.000000    0.000000  \n",
       "75%     36.600000                  0.626250   41.000000    1.000000  \n",
       "max     67.100000                  2.420000   81.000000    1.000000  "
      ]
     },
     "execution_count": 4,
     "metadata": {},
     "output_type": "execute_result"
    }
   ],
   "source": [
    "df.describe()"
   ]
  },
  {
   "cell_type": "markdown",
   "id": "238bf262",
   "metadata": {},
   "source": [
    "# Kolom Pada Himpunan Data"
   ]
  },
  {
   "cell_type": "code",
   "execution_count": 5,
   "id": "76b78709",
   "metadata": {},
   "outputs": [
    {
     "data": {
      "text/plain": [
       "Index(['Pregnancies', 'Glucose', 'BloodPressure', 'SkinThickness', 'Insulin',\n",
       "       'BMI', 'DiabetesPedigreeFunction', 'Age', 'Outcome'],\n",
       "      dtype='object')"
      ]
     },
     "execution_count": 5,
     "metadata": {},
     "output_type": "execute_result"
    }
   ],
   "source": [
    "df.columns"
   ]
  },
  {
   "cell_type": "markdown",
   "id": "e4d0909e",
   "metadata": {},
   "source": [
    "Terdapat sembilan (9) kolom dalam himpunan data ini, yaitu:\n",
    "- Pregnancies\n",
    "- Glucose\n",
    "- BloodPressure\n",
    "- SkinThickness\n",
    "- Insulin\n",
    "- BMI\n",
    "- DiabetesPedigreeFunction\n",
    "- Age\n",
    "- Outcome"
   ]
  },
  {
   "cell_type": "markdown",
   "id": "23099c1a",
   "metadata": {},
   "source": [
    "# Info Setiap Masing-Masing Kolom"
   ]
  },
  {
   "cell_type": "code",
   "execution_count": 6,
   "id": "b0ae7ba5",
   "metadata": {
    "scrolled": true
   },
   "outputs": [
    {
     "name": "stdout",
     "output_type": "stream",
     "text": [
      "<class 'pandas.core.frame.DataFrame'>\n",
      "RangeIndex: 768 entries, 0 to 767\n",
      "Data columns (total 9 columns):\n",
      " #   Column                    Non-Null Count  Dtype  \n",
      "---  ------                    --------------  -----  \n",
      " 0   Pregnancies               768 non-null    int64  \n",
      " 1   Glucose                   768 non-null    int64  \n",
      " 2   BloodPressure             768 non-null    int64  \n",
      " 3   SkinThickness             768 non-null    int64  \n",
      " 4   Insulin                   768 non-null    int64  \n",
      " 5   BMI                       768 non-null    float64\n",
      " 6   DiabetesPedigreeFunction  768 non-null    float64\n",
      " 7   Age                       768 non-null    int64  \n",
      " 8   Outcome                   768 non-null    int64  \n",
      "dtypes: float64(2), int64(7)\n",
      "memory usage: 54.1 KB\n"
     ]
    }
   ],
   "source": [
    "df.info()"
   ]
  },
  {
   "cell_type": "markdown",
   "id": "30950682",
   "metadata": {},
   "source": [
    "Terlihat bahwa kolom `BMI` serta kolom `DiabetesPedigreeFunction` bertipe data float, selebihnya menggunakan tipe data integer. Setiap kolom yang ada pada himpunan data `diabetes.csv` tercatat tidak memiliki data yang tidak kosong."
   ]
  },
  {
   "cell_type": "markdown",
   "id": "9a2c144b",
   "metadata": {},
   "source": [
    "# Penjelasan Kolom Pada Himpunan Data"
   ]
  },
  {
   "cell_type": "markdown",
   "id": "edafe36e",
   "metadata": {},
   "source": [
    "Adapun penjelasan setiap kolom yaitu:\n",
    "- Pregnancies : Jumlah seseorang hamil\n",
    "- Glucose : Kadar glukosa dalam darah\n",
    "- BloodPressure : Pengukuran tekanan darah (mmHg)\n",
    "- SkinThickness : Ketebalan kulit trisep ketika dilipat (mm)\n",
    "- Insulin : Kadar insulin dalam darah\n",
    "- BMI : Indeks masa tubuh (kg/m^2)\n",
    "- DiabetesPedigreeFunction : Indikator riwayat diabetes dalam keluarga\n",
    "- Age : Umur\n",
    "- Outcome : Kelas yang menentukan apakah seseorang dikatakan terkena diabetes atau tidak\n",
    "\n",
    "Keterangan: \n",
    "- Jika nilai kolom `Outcome`bernilai 0, maka tidak terkena diabetes\n",
    "- Jika nilai kolom `Outcome`bernilai 1, maka seseorang terkena diabetes"
   ]
  },
  {
   "cell_type": "markdown",
   "id": "d54a969f",
   "metadata": {},
   "source": [
    "# Data Preparation"
   ]
  },
  {
   "cell_type": "code",
   "execution_count": 7,
   "id": "59f3095c",
   "metadata": {},
   "outputs": [],
   "source": [
    "def std_based(col_name,df):\n",
    "    mean = df[col_name].mean()\n",
    "    std = df[col_name].std()\n",
    "    cut_off = std * 3\n",
    "    lower, upper = mean - cut_off, mean + cut_off\n",
    "    new_df = df[(df[col_name] < upper) & (df[col_name] > lower)]\n",
    "    return new_df"
   ]
  },
  {
   "cell_type": "markdown",
   "id": "715647f6",
   "metadata": {},
   "source": [
    "## Pengecekan Data Yang Hilang"
   ]
  },
  {
   "cell_type": "code",
   "execution_count": 8,
   "id": "ef2b3f5d",
   "metadata": {
    "scrolled": false
   },
   "outputs": [
    {
     "data": {
      "text/plain": [
       "Pregnancies                 0\n",
       "Glucose                     0\n",
       "BloodPressure               0\n",
       "SkinThickness               0\n",
       "Insulin                     0\n",
       "BMI                         0\n",
       "DiabetesPedigreeFunction    0\n",
       "Age                         0\n",
       "Outcome                     0\n",
       "dtype: int64"
      ]
     },
     "execution_count": 8,
     "metadata": {},
     "output_type": "execute_result"
    }
   ],
   "source": [
    "df.isna().sum()"
   ]
  },
  {
   "cell_type": "markdown",
   "id": "bb9c9dec",
   "metadata": {},
   "source": [
    "## Pengecekan Data Yang Duplikat"
   ]
  },
  {
   "cell_type": "code",
   "execution_count": 9,
   "id": "573c22f1",
   "metadata": {},
   "outputs": [
    {
     "data": {
      "text/html": [
       "<div>\n",
       "<style scoped>\n",
       "    .dataframe tbody tr th:only-of-type {\n",
       "        vertical-align: middle;\n",
       "    }\n",
       "\n",
       "    .dataframe tbody tr th {\n",
       "        vertical-align: top;\n",
       "    }\n",
       "\n",
       "    .dataframe thead th {\n",
       "        text-align: right;\n",
       "    }\n",
       "</style>\n",
       "<table border=\"1\" class=\"dataframe\">\n",
       "  <thead>\n",
       "    <tr style=\"text-align: right;\">\n",
       "      <th></th>\n",
       "      <th>Pregnancies</th>\n",
       "      <th>Glucose</th>\n",
       "      <th>BloodPressure</th>\n",
       "      <th>SkinThickness</th>\n",
       "      <th>Insulin</th>\n",
       "      <th>BMI</th>\n",
       "      <th>DiabetesPedigreeFunction</th>\n",
       "      <th>Age</th>\n",
       "      <th>Outcome</th>\n",
       "    </tr>\n",
       "  </thead>\n",
       "  <tbody>\n",
       "  </tbody>\n",
       "</table>\n",
       "</div>"
      ],
      "text/plain": [
       "Empty DataFrame\n",
       "Columns: [Pregnancies, Glucose, BloodPressure, SkinThickness, Insulin, BMI, DiabetesPedigreeFunction, Age, Outcome]\n",
       "Index: []"
      ]
     },
     "execution_count": 9,
     "metadata": {},
     "output_type": "execute_result"
    }
   ],
   "source": [
    "duplicate = df[df.duplicated()]\n",
    "duplicate"
   ]
  },
  {
   "cell_type": "markdown",
   "id": "4def9c9c",
   "metadata": {},
   "source": [
    "After checking dataset, does not find duplicate values."
   ]
  },
  {
   "cell_type": "markdown",
   "id": "9cba2c22",
   "metadata": {},
   "source": [
    "## Pengecekan Data Yang Anomali"
   ]
  },
  {
   "cell_type": "markdown",
   "id": "c80cefd1",
   "metadata": {},
   "source": [
    "### Age"
   ]
  },
  {
   "cell_type": "code",
   "execution_count": 10,
   "id": "7b447e63",
   "metadata": {},
   "outputs": [
    {
     "data": {
      "text/plain": [
       "<AxesSubplot: xlabel='Age'>"
      ]
     },
     "execution_count": 10,
     "metadata": {},
     "output_type": "execute_result"
    },
    {
     "data": {
      "image/png": "[encoded data removed]",
      "text/plain": [
       "<Figure size 640x480 with 1 Axes>"
      ]
     },
     "metadata": {},
     "output_type": "display_data"
    }
   ],
   "source": [
    "red_diamond = dict(markerfacecolor='r', marker='D')\n",
    "sns.boxplot(data=df, x=\"Age\", flierprops=red_diamond)"
   ]
  },
  {
   "cell_type": "code",
   "execution_count": 11,
   "id": "d0c34d95",
   "metadata": {},
   "outputs": [
    {
     "data": {
      "image/png": "[encoded data removed]",
      "text/plain": [
       "<Figure size 640x480 with 1 Axes>"
      ]
     },
     "metadata": {},
     "output_type": "display_data"
    }
   ],
   "source": [
    "#quartile3 define\n",
    "q3 = df[\"Age\"].quantile(q=0.75) * 1.5\n",
    "median = df[\"Age\"].median()\n",
    "#changing outliers value into median\n",
    "df.loc[df[\"Age\"] > q3, \"Age\"]= median\n",
    "\n",
    "ax = sns.histplot(df[\"Age\"], color = \"blue\", alpha = 0.5, kde = True, line_kws = {'color':'red','linestyle': 'dashed'})\n",
    "\n",
    "#set_title\n",
    "ax.set_title(\n",
    "        \"Distribution Age Without Outliers\",\n",
    "        fontdict={\"fontweight\": \"bold\"},\n",
    "    )\n",
    "\n",
    "#visible spine\n",
    "for spine in ['top', 'right','bottom']:\n",
    "    ax.spines[spine].set_visible(False)"
   ]
  },
  {
   "cell_type": "markdown",
   "id": "d454845a",
   "metadata": {},
   "source": [
    "### Pregnancies"
   ]
  },
  {
   "cell_type": "code",
   "execution_count": 12,
   "id": "51e2addc",
   "metadata": {},
   "outputs": [
    {
     "data": {
      "text/plain": [
       "count    768.000000\n",
       "mean       3.845052\n",
       "std        3.369578\n",
       "min        0.000000\n",
       "25%        1.000000\n",
       "50%        3.000000\n",
       "75%        6.000000\n",
       "max       17.000000\n",
       "Name: Pregnancies, dtype: float64"
      ]
     },
     "execution_count": 12,
     "metadata": {},
     "output_type": "execute_result"
    }
   ],
   "source": [
    "df['Pregnancies'].describe()"
   ]
  },
  {
   "cell_type": "markdown",
   "id": "9762ed94",
   "metadata": {},
   "source": [
    "we look at the distribution and boxplot"
   ]
  },
  {
   "cell_type": "code",
   "execution_count": 18,
   "id": "118bdc3c",
   "metadata": {},
   "outputs": [
    {
     "data": {
      "image/png": "[encoded data removed]",
      "text/plain": [
       "<Figure size 960x480 with 2 Axes>"
      ]
     },
     "metadata": {},
     "output_type": "display_data"
    }
   ],
   "source": [
    "fig,axes = plt.subplots(nrows=1,ncols=2,dpi=120,figsize = (8,4))\n",
    "\n",
    "plot00=sns.distplot(df['Pregnancies'],ax=axes[0],color='salmon')\n",
    "axes[0].set_title('Distribution of Pregnancy',fontdict={'fontsize':8})\n",
    "axes[0].set_xlabel('Pregnancy Class',fontdict={'fontsize':7})\n",
    "axes[0].set_ylabel('Frequency',fontdict={'fontsize':7})\n",
    "\n",
    "\n",
    "plt.tight_layout()\n",
    "\n",
    "plot01=sns.boxplot(data=df['Pregnancies'],ax=axes[1],orient = 'v',color='salmon')\n",
    "axes[1].set_title('Boxplot Pregency',fontdict={'fontsize':8})\n",
    "plt.tight_layout()"
   ]
  },
  {
   "cell_type": "code",
   "execution_count": 16,
   "id": "8764dc9a",
   "metadata": {},
   "outputs": [
    {
     "data": {
      "image/png": "[encoded data removed]",
      "text/plain": [
       "<Figure size 960x480 with 2 Axes>"
      ]
     },
     "metadata": {},
     "output_type": "display_data"
    }
   ],
   "source": [
    "#Treating Outlier and then verifying it\n",
    "\n",
    "df = std_based('Pregnancies',df)\n",
    "\n",
    "fig,axes = plt.subplots(nrows=1,ncols=2,dpi=120,figsize = (8,4))\n",
    "\n",
    "plot00=sns.distplot(df['Pregnancies'],ax=axes[0],color='blue')\n",
    "axes[0].set_title('Distribution of Pregnancy',fontdict={'fontsize':8})\n",
    "axes[0].set_xlabel('Pregnancy Class',fontdict={'fontsize':7})\n",
    "axes[0].set_ylabel('Frequency',fontdict={'fontsize':7})\n",
    "plt.tight_layout()\n",
    "\n",
    "\n",
    "plot01=sns.boxplot(data = df['Pregnancies'],ax=axes[1],orient = 'v',color='royalblue')\n",
    "axes[1].set_title('Boxplot Pregency',fontdict={'fontsize':8})\n",
    "plt.tight_layout()"
   ]
  },
  {
   "cell_type": "code",
   "execution_count": null,
   "id": "89281aa7",
   "metadata": {},
   "outputs": [],
   "source": []
  },
  {
   "cell_type": "code",
   "execution_count": null,
   "id": "399851a2",
   "metadata": {},
   "outputs": [],
   "source": [
    "#quartile3 define\n",
    "q3 = df[\"Pregnancies\"].quantile(q=0.75) * 1.5\n",
    "mean_pregnancies = df[\"Pregnancies\"].mean()\n",
    "#changing outliers value into median\n",
    "df.loc[df[\"Pregnancies\"] > q3, \"Pregnancies\"]= mean_pregnancies\n",
    "\n",
    "ax = sns.histplot(df[\"Pregnancies\"], color = \"blue\", alpha = 0.5, kde = True, line_kws = {'color':'red','linestyle': 'dashed'})\n",
    "\n",
    "#set_title\n",
    "ax.set_title(\n",
    "        \"Distribution Pregnancies Without Outliers\",\n",
    "        fontdict={\"fontweight\": \"bold\"},\n",
    "    )\n",
    "\n",
    "#visible visible\n",
    "for spine in ['top', 'right','bottom']:\n",
    "    ax.spines[spine].set_visible(False)"
   ]
  },
  {
   "cell_type": "code",
   "execution_count": null,
   "id": "93703771",
   "metadata": {},
   "outputs": [],
   "source": [
    "sns.boxplot(data=df, x=\"BloodPressure\")"
   ]
  },
  {
   "cell_type": "markdown",
   "id": "8ee3187e",
   "metadata": {},
   "source": [
    "# Exploratory Data Analysis (EDA)"
   ]
  },
  {
   "cell_type": "markdown",
   "id": "6b411c65",
   "metadata": {},
   "source": [
    "## Univariate Analysis"
   ]
  },
  {
   "cell_type": "markdown",
   "id": "68432ee2",
   "metadata": {},
   "source": [
    "Given the pathology of Diabetes the primal assumption is that the following factors might forcast the outcome:\n",
    "\n",
    "Glucose level in a glucose tolerance test (Higher the glucose higher the chance of diabetes) <br>\n",
    "BMI (Higher the BMI higher the chance of diabetes) <br>\n",
    "Diabetes family history (Higher the family incidence higher the chance of diabetes) <br>"
   ]
  },
  {
   "cell_type": "code",
   "execution_count": null,
   "id": "8f41d633",
   "metadata": {},
   "outputs": [],
   "source": [
    "#adding Mapping Replace\n",
    "df['Label'] = df['Outcome'].map(lambda r: {0: 'NonDiabetes', 1: 'Diabetes'}[r])"
   ]
  },
  {
   "cell_type": "code",
   "execution_count": null,
   "id": "f5aeda79",
   "metadata": {},
   "outputs": [],
   "source": [
    "num_cols = ['Glucose', 'BMI', 'DiabetesPedigreeFunction']\n",
    "palette = {0: 'blue', 1: 'yellow'}\n",
    "for i in num_cols:\n",
    "    sns.displot(data = df, kde=True, x = df[str(i)], hue='Outcome', palette = palette)\n",
    "    plt.show()"
   ]
  },
  {
   "cell_type": "markdown",
   "id": "b7be8b08",
   "metadata": {},
   "source": [
    "Glucose level - outcome 0: normal distribution | outcome 1: bimodal distribution with a global maximum at 130 and a local max at 160 mmol/L <br>\n",
    "\n",
    "BMI - outcome 0: normal distribution | outcome 1: binomial distribution<br>\n",
    "\n",
    "Diabetes family history - outcome 0: normal distribution, positive skewed | outcome 1: binomial distribution, positive skewed"
   ]
  },
  {
   "cell_type": "code",
   "execution_count": null,
   "id": "9b681e74",
   "metadata": {},
   "outputs": [],
   "source": [
    "#Age hue outcome\n",
    "sns.histplot(data=df, x=\"Age\", hue=\"Label\")"
   ]
  },
  {
   "cell_type": "markdown",
   "id": "6ad127a2",
   "metadata": {},
   "source": [
    "## Correlation Each Attribute"
   ]
  },
  {
   "cell_type": "code",
   "execution_count": null,
   "id": "5a73a6ca",
   "metadata": {},
   "outputs": [],
   "source": [
    "plt.figure(figsize=(25, 10))\n",
    "corr = df.apply(lambda x: pd.factorize(x)[0]).corr()\n",
    "mask = np.triu(np.ones_like(corr, dtype=bool))\n",
    "ax = sns.heatmap(corr, mask=mask, xticklabels=corr.columns, yticklabels=corr.columns, annot=True, linewidths=.2, cmap='coolwarm', vmin=-1, vmax=1)"
   ]
  },
  {
   "cell_type": "markdown",
   "id": "51acf565",
   "metadata": {},
   "source": [
    "## Proportional"
   ]
  },
  {
   "cell_type": "code",
   "execution_count": null,
   "id": "55d9889e",
   "metadata": {},
   "outputs": [],
   "source": [
    "fig = plt.figure()\n",
    "ax = fig.add_axes([0,0,1,1])\n",
    "ax.axis('equal')\n",
    "labels = ['Non-Diabetes','Diabetes']\n",
    "diabetes_count = df.Outcome.value_counts()\n",
    "ax.set_title(\n",
    "        \"Proportional data Diabetes and Non Diabetes\",\n",
    "        fontdict={\"fontweight\": \"bold\"},\n",
    "    color='blue'\n",
    "    )\n",
    "explode = (0.1, 0)\n",
    "colors = ['lightblue','yellow']\n",
    "ax.pie(diabetes_count,  labels=labels, autopct='%.0f%%', shadow=True, startangle=140, explode=explode,colors=colors)\n",
    "plt.show()"
   ]
  },
  {
   "cell_type": "code",
   "execution_count": null,
   "id": "90117908",
   "metadata": {},
   "outputs": [],
   "source": [
    "# draw a correlation matrix to see what features are corralating to the outcome the most:\n",
    "display(df.corr().sort_values('Outcome', ascending=False))\n",
    "correlation = df.corr().sort_values('Outcome', ascending=False)[['Outcome']]\n",
    "correlation.style.background_gradient(cmap='Blues')"
   ]
  },
  {
   "cell_type": "code",
   "execution_count": null,
   "id": "135f70b0",
   "metadata": {},
   "outputs": [],
   "source": [
    "ax = sns.heatmap(correlation, annot=True, cmap='Blues')\n",
    "ax.set_title(\n",
    "        \"Correlation matrix based on Outcome\",\n",
    "        fontdict={\"fontweight\": \"bold\"},\n",
    "    )"
   ]
  },
  {
   "cell_type": "markdown",
   "id": "136aeb37",
   "metadata": {},
   "source": [
    "# Data Preprocessing"
   ]
  },
  {
   "cell_type": "markdown",
   "id": "497520f7",
   "metadata": {},
   "source": [
    "## Menghapus Kolom Yang Tidak Diperlukan (Tidak Perlu)"
   ]
  },
  {
   "cell_type": "code",
   "execution_count": null,
   "id": "ffec29af",
   "metadata": {},
   "outputs": [],
   "source": []
  },
  {
   "cell_type": "markdown",
   "id": "98b67aee",
   "metadata": {},
   "source": [
    "## Encoding Data"
   ]
  },
  {
   "cell_type": "markdown",
   "id": "6bbe3589",
   "metadata": {},
   "source": [
    "## Spliting Himpunan Data"
   ]
  },
  {
   "cell_type": "code",
   "execution_count": null,
   "id": "69a9db40",
   "metadata": {},
   "outputs": [],
   "source": []
  },
  {
   "cell_type": "markdown",
   "id": "b3e2569b",
   "metadata": {},
   "source": [
    "# Pemodelan Machine Learning"
   ]
  },
  {
   "cell_type": "code",
   "execution_count": null,
   "id": "f185ed44",
   "metadata": {},
   "outputs": [],
   "source": []
  }
 ],
 "metadata": {
  "kernelspec": {
   "display_name": "local-venv",
   "language": "python",
   "name": "local-venv"
  },
  "language_info": {
   "codemirror_mode": {
    "name": "ipython",
    "version": 3
   },
   "file_extension": ".py",
   "mimetype": "text/x-python",
   "name": "python",
   "nbconvert_exporter": "python",
   "pygments_lexer": "ipython3",
   "version": "3.9.12"
  }
 },
 "nbformat": 4,
 "nbformat_minor": 5
}
